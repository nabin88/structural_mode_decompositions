{
 "cells": [
  {
   "cell_type": "code",
   "execution_count": 1,
   "id": "15df39f5",
   "metadata": {},
   "outputs": [],
   "source": [
    "import numpy as np\n",
    "import spglib"
   ]
  },
  {
   "cell_type": "code",
   "execution_count": 2,
   "id": "1a7cd896",
   "metadata": {},
   "outputs": [],
   "source": [
    "class Document: \n",
    "    def __init__(self, filename):\n",
    "        self.filename = filename\n",
    "        \n",
    "    def formatted_poscar(self):\n",
    "        filename_z = self.filename\n",
    "        with open(filename_z) as file_object_ls:\n",
    "            lines_ls = file_object_ls.readlines()\n",
    "    \n",
    "        n_atoms = sum([int(i) for i in lines_ls[6].split()]) #number of atoms\n",
    "    \n",
    "        lines2 = lines_ls[8:]\n",
    "        list_ls = [i.split() for i in lines2]\n",
    "        self.LS= np.array(list_ls).reshape(n_atoms, 3).astype(float)\n",
    "    \n",
    "        ls1 = []\n",
    "        ls2 = []\n",
    "        ls3 = []\n",
    "    \n",
    "        # corrections\n",
    "        for i in self.LS[:,0]:\n",
    "            if i >= 0.90:\n",
    "                i = i - 1\n",
    "            elif i < -0.90:\n",
    "                i = i + 1\n",
    "            else:\n",
    "                i = i\n",
    "            ls1.append(i)\n",
    "        ls1 = np.array(ls1).reshape(n_atoms,1)\n",
    "    \n",
    "        for j in self.LS[:,1]:\n",
    "            if j >= 0.9:\n",
    "                j = j - 1\n",
    "            elif j < -0.9:\n",
    "                j = j + 1\n",
    "            else:\n",
    "                j = j\n",
    "            ls2.append(j)\n",
    "        ls2 = np.array(ls2).reshape(n_atoms,1)\n",
    "        ls3 = np.array(self.LS[:,2]).reshape(n_atoms,1)\n",
    "    \n",
    "        LS_final = np.hstack([ls1, ls2, ls3]) #corrected final structure\n",
    "        return LS_final\n",
    "    \n",
    "    def lattice_parameters(self):\n",
    "        with open(self.filename) as file_for_lattice:\n",
    "            lines = file_for_lattice.readlines()\n",
    "        \n",
    "        a = lines[2].split()\n",
    "        b = lines[3].split()\n",
    "        c = lines[4].split()\n",
    "    \n",
    "        self.lat_a = np.sqrt(sum([float(i)**2 for i in a]))\n",
    "        self.lat_b = np.sqrt(sum([float(i)**2 for i in b]))\n",
    "        self.lat_c = np.sqrt(sum([float(i)**2 for i in c]))\n",
    "        return self.lat_a, self.lat_b, self.lat_c\n",
    "    \n",
    "    def volume(self):\n",
    "        self.volume = self.lat_a * self.lat_b * self.lat_c\n",
    "        return self.volume\n",
    "    \n",
    "    def spacegroup(self):\n",
    "        filename_y = self.filename\n",
    "        with open(filename_y) as file_object_ls:\n",
    "            lines_ls = file_object_ls.readlines()\n",
    "        atom_n = [int(i) for i in lines_ls[6].split()]\n",
    "        empt = []\n",
    "        for i in range(len(atom_n)):\n",
    "            num = atom_n[i]*[i+1]\n",
    "            empt.append(num)\n",
    "        numbers = sum(empt, [])\n",
    "        \n",
    "        lattu = lines_ls[2:5]\n",
    "        latt = [i.split() for i in lattu]\n",
    "        lattice = []\n",
    "        for l in latt:\n",
    "            lattice.append([float(i) for i in l])\n",
    "            \n",
    "        n_atoms = sum([int(i) for i in lines_ls[6].split()]) #number of atoms\n",
    "    \n",
    "        lines2 = lines_ls[8:]\n",
    "        list_ls = [i.split() for i in lines2]\n",
    "        positions = np.array(list_ls).reshape(n_atoms, 3).astype(float)\n",
    "        \n",
    "        space = spglib.get_spacegroup(cell=(lattice, positions, numbers), angle_tolerance=-1.0, symbol_type=0)\n",
    "        \n",
    "        return \"The space group of your structure is {}\".format(space)\n",
    "        \n",
    "        "
   ]
  },
  {
   "cell_type": "code",
   "execution_count": 3,
   "id": "2970ff17",
   "metadata": {},
   "outputs": [],
   "source": [
    "myfile = Document('CONTCAR_ls')"
   ]
  },
  {
   "cell_type": "code",
   "execution_count": 4,
   "id": "220050bf",
   "metadata": {},
   "outputs": [
    {
     "data": {
      "text/plain": [
       "(6.373357338259712, 6.373357338334221, 12.381713439972922)"
      ]
     },
     "execution_count": 4,
     "metadata": {},
     "output_type": "execute_result"
    }
   ],
   "source": [
    "myfile.lattice_parameters()"
   ]
  },
  {
   "cell_type": "code",
   "execution_count": 5,
   "id": "123c1543",
   "metadata": {},
   "outputs": [
    {
     "data": {
      "text/plain": [
       "'The space group of your structure is P6_3cm (185)'"
      ]
     },
     "execution_count": 5,
     "metadata": {},
     "output_type": "execute_result"
    }
   ],
   "source": [
    "myfile.spacegroup()"
   ]
  },
  {
   "cell_type": "code",
   "execution_count": 7,
   "id": "b431aeda",
   "metadata": {},
   "outputs": [
    {
     "data": {
      "text/plain": [
       "502.9412843587471"
      ]
     },
     "execution_count": 7,
     "metadata": {},
     "output_type": "execute_result"
    }
   ],
   "source": [
    "myfile.volume()"
   ]
  },
  {
   "cell_type": "code",
   "execution_count": null,
   "id": "fc8b273b",
   "metadata": {},
   "outputs": [],
   "source": []
  }
 ],
 "metadata": {
  "kernelspec": {
   "display_name": "Python 3 (ipykernel)",
   "language": "python",
   "name": "python3"
  },
  "language_info": {
   "codemirror_mode": {
    "name": "ipython",
    "version": 3
   },
   "file_extension": ".py",
   "mimetype": "text/x-python",
   "name": "python",
   "nbconvert_exporter": "python",
   "pygments_lexer": "ipython3",
   "version": "3.11.2"
  }
 },
 "nbformat": 4,
 "nbformat_minor": 5
}
